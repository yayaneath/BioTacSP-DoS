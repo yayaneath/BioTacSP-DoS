{
 "cells": [
  {
   "cell_type": "code",
   "execution_count": 1,
   "metadata": {},
   "outputs": [
    {
     "name": "stderr",
     "output_type": "stream",
     "text": [
      "Using TensorFlow backend.\n"
     ]
    },
    {
     "name": "stdout",
     "output_type": "stream",
     "text": [
      "WARNING:tensorflow:From C:\\Users\\Brayan\\Anaconda3\\envs\\tensorflow-gpu\\lib\\site-packages\\tensorflow\\contrib\\learn\\python\\learn\\datasets\\base.py:198: retry (from tensorflow.contrib.learn.python.learn.datasets.base) is deprecated and will be removed in a future version.\n",
      "Instructions for updating:\n",
      "Use the retry module or similar alternatives.\n"
     ]
    }
   ],
   "source": [
    "import numpy as np\n",
    "import math\n",
    "\n",
    "from sklearn.utils import shuffle\n",
    "from sklearn.model_selection import train_test_split\n",
    "from sklearn.metrics import confusion_matrix\n",
    "from sklearn.metrics import precision_recall_fscore_support\n",
    "\n",
    "import torch\n",
    "import torch.nn as nn\n",
    "import torch.nn.functional as F\n",
    "\n",
    "from livelossplot import PlotLosses\n",
    "import itertools\n",
    "import matplotlib.pyplot as plt\n",
    "%matplotlib inline"
   ]
  },
  {
   "cell_type": "code",
   "execution_count": 2,
   "metadata": {},
   "outputs": [
    {
     "name": "stdout",
     "output_type": "stream",
     "text": [
      "cuda\n"
     ]
    }
   ],
   "source": [
    "# Device configuration\n",
    "device = torch.device('cuda' if torch.cuda.is_available() else 'cpu')\n",
    "#device = torch.device('cpu')\n",
    "print(device)"
   ]
  },
  {
   "cell_type": "code",
   "execution_count": 3,
   "metadata": {},
   "outputs": [],
   "source": [
    "#https://scikit-learn.org/stable/auto_examples/model_selection/plot_confusion_matrix.html#sphx-\n",
    "#glr-auto-examples-model-selection-plot-confusion-matrix-py\n",
    "def plot_confusion_matrix(cm, classes,\n",
    "                          normalize=False,\n",
    "                          title='Confusion matrix',\n",
    "                          cmap=plt.cm.Blues):\n",
    "    \"\"\"\n",
    "    This function prints and plots the confusion matrix.\n",
    "    Normalization can be applied by setting `normalize=True`.\n",
    "    \"\"\"\n",
    "    if normalize:\n",
    "        cm = cm.astype('float') / cm.sum(axis=1)[:, np.newaxis]\n",
    "        print(\"Normalized confusion matrix\")\n",
    "    else:\n",
    "        print('Confusion matrix, without normalization')\n",
    "\n",
    "    #print(cm)\n",
    "\n",
    "    plt.imshow(cm, interpolation='nearest', cmap=cmap)\n",
    "    plt.title(title)\n",
    "    plt.colorbar()\n",
    "    tick_marks = np.arange(len(classes))\n",
    "    plt.xticks(tick_marks, classes, rotation=45)\n",
    "    plt.yticks(tick_marks, classes)\n",
    "\n",
    "    fmt = '.2f' if normalize else 'd'\n",
    "    thresh = cm.max() / 2.\n",
    "    for i, j in itertools.product(range(cm.shape[0]), range(cm.shape[1])):\n",
    "        plt.text(j, i, format(cm[i, j], fmt),\n",
    "                 horizontalalignment=\"center\",\n",
    "                 color=\"white\" if cm[i, j] > thresh else \"black\")\n",
    "\n",
    "    plt.ylabel('True label')\n",
    "    plt.xlabel('Predicted label')\n",
    "    plt.tight_layout()"
   ]
  },
  {
   "cell_type": "markdown",
   "metadata": {},
   "source": [
    "## Set script-wide constants"
   ]
  },
  {
   "cell_type": "code",
   "execution_count": 6,
   "metadata": {},
   "outputs": [],
   "source": [
    "FOLDER_TEST = './datasets/test/'\n",
    "FOLDER = './datasets/train/'\n",
    "\n",
    "CLASSES = ['n', 's', 'e', 'w', 'cw', 'aw', 't']\n",
    "\n",
    "WINDOW = 5\n",
    "ELECTRODES = 24\n",
    "VAL_SPLIT = 0.20"
   ]
  },
  {
   "cell_type": "markdown",
   "metadata": {},
   "source": [
    "## Read train dataset and split it in train - validation"
   ]
  },
  {
   "cell_type": "code",
   "execution_count": 7,
   "metadata": {
    "scrolled": true
   },
   "outputs": [
    {
     "name": "stdout",
     "output_type": "stream",
     "text": [
      "(0, 5, 24)\n",
      "(0,)\n",
      "./datasets/train/n-5-ff\n",
      "(880, 5, 24)\n",
      "(880, 1)\n",
      "(880, 5, 24)\n",
      "(880,)\n",
      "./datasets/train/s-5-ff\n",
      "(888, 5, 24)\n",
      "(888, 1)\n",
      "(1768, 5, 24)\n",
      "(1768,)\n",
      "./datasets/train/e-5-ff\n",
      "(885, 5, 24)\n",
      "(885, 1)\n",
      "(2653, 5, 24)\n",
      "(2653,)\n",
      "./datasets/train/w-5-ff\n",
      "(828, 5, 24)\n",
      "(828, 1)\n",
      "(3481, 5, 24)\n",
      "(3481,)\n",
      "./datasets/train/cw-5-ff\n",
      "(885, 5, 24)\n",
      "(885, 1)\n",
      "(4366, 5, 24)\n",
      "(4366,)\n",
      "./datasets/train/aw-5-ff\n",
      "(883, 5, 24)\n",
      "(883, 1)\n",
      "(5249, 5, 24)\n",
      "(5249,)\n",
      "./datasets/train/t-5-ff\n",
      "(883, 5, 24)\n",
      "(883, 1)\n",
      "(6132, 5, 24)\n",
      "(6132,)\n",
      "Dataset split\n",
      "(4905, 5, 24)\n",
      "(1227, 5, 24)\n",
      "(4905,)\n",
      "(1227,)\n"
     ]
    }
   ],
   "source": [
    "dataset = np.zeros((0, WINDOW, ELECTRODES))\n",
    "labels = np.zeros((0))\n",
    "    \n",
    "print(dataset.shape)\n",
    "print(labels.shape)\n",
    "\n",
    "for class_name in CLASSES:\n",
    "    file = FOLDER + class_name + '-' + str(WINDOW) + '-ff'\n",
    "    \n",
    "    print(file)\n",
    "    \n",
    "    class_data = np.load(file + '-data.npy')\n",
    "    class_labels = np.load(file + '-labels.npy')\n",
    "    \n",
    "    print(class_data.shape)\n",
    "    print(class_labels.shape)\n",
    "    \n",
    "    dataset = np.append(dataset, class_data, axis=0)\n",
    "    labels = np.append(labels, np.reshape(class_labels, (class_labels.shape[0])), axis=0)\n",
    "    \n",
    "    print(dataset.shape)\n",
    "    print(labels.shape)\n",
    "\n",
    "# Normalize data! Really necessary in this dataset\n",
    "x_min = dataset.min(axis=(2), keepdims=True)\n",
    "x_max = dataset.max(axis=(2), keepdims=True)\n",
    "\n",
    "dataset = (dataset - x_min)/(x_max - x_min)\n",
    "    \n",
    "data_train, data_val, labels_train, labels_val = train_test_split(dataset, labels, test_size=VAL_SPLIT,\n",
    "                                                                    random_state=42)\n",
    "\n",
    "print('Dataset split')\n",
    "print(data_train.shape)\n",
    "print(data_val.shape)\n",
    "print(labels_train.shape)\n",
    "print(labels_val.shape)"
   ]
  },
  {
   "cell_type": "code",
   "execution_count": 8,
   "metadata": {},
   "outputs": [
    {
     "data": {
      "text/plain": [
       "(array([0.16340469, 0.16602107, 0.16792389, 0.1643561 , 0.17101597,\n",
       "        0.16578321, 0.16816174]),\n",
       " array([0.        , 0.85714286, 1.71428571, 2.57142857, 3.42857143,\n",
       "        4.28571429, 5.14285714, 6.        ]),\n",
       " <a list of 7 Patch objects>)"
      ]
     },
     "execution_count": 8,
     "metadata": {},
     "output_type": "execute_result"
    },
    {
     "data": {
      "image/png": "[encoded data removed]",
      "text/plain": [
       "<Figure size 432x288 with 1 Axes>"
      ]
     },
     "metadata": {},
     "output_type": "display_data"
    }
   ],
   "source": [
    "plt.hist(labels_train, bins=len(CLASSES), density=True, facecolor='g', alpha=0.75)"
   ]
  },
  {
   "cell_type": "code",
   "execution_count": 9,
   "metadata": {},
   "outputs": [],
   "source": [
    "# Changed for using GPU\n",
    "data_val = torch.from_numpy(data_val)\n",
    "data_val = data_val.to(device, dtype=torch.float)\n",
    "\n",
    "labels_val = torch.from_numpy(labels_val)\n",
    "labels_val = labels_val.to(device, dtype=torch.long)"
   ]
  },
  {
   "cell_type": "markdown",
   "metadata": {},
   "source": [
    "## Define LSTM and train"
   ]
  },
  {
   "cell_type": "code",
   "execution_count": 10,
   "metadata": {},
   "outputs": [],
   "source": [
    "# Recurrent neural network (many-to-one)\n",
    "class RNN(nn.Module):\n",
    "    def __init__(self, input_size, hidden_size, num_layers, num_classes, dropout=0.5):\n",
    "        super(RNN, self).__init__()\n",
    "        self.hidden_size = hidden_size\n",
    "        self.num_layers = num_layers\n",
    "        self.lstm = nn.LSTM(input_size, hidden_size, num_layers, batch_first=True, dropout=dropout)\n",
    "        self.fc1 = nn.Linear(hidden_size, hidden_size)\n",
    "        self.fc1_bn = nn.BatchNorm1d(hidden_size)\n",
    "        self.fc1_drop = nn.Dropout(p=dropout)\n",
    "        self.fc2 = nn.Linear(hidden_size, num_classes)\n",
    "    \n",
    "    def forward(self, x):\n",
    "        # Set initial hidden and cell states \n",
    "        h0 = torch.zeros(self.num_layers, x.size(0), self.hidden_size).to(device) \n",
    "        c0 = torch.zeros(self.num_layers, x.size(0), self.hidden_size).to(device)\n",
    "        \n",
    "        # Forward propagate LSTM\n",
    "        out, _ = self.lstm(x, (h0, c0))  # out: tensor of shape (batch_size, seq_length, hidden_size)\n",
    "        \n",
    "        # Decode the hidden state of the last time step\n",
    "        #out = F.relu(self.fc1_bn(self.fc1(out[:, -1, :])))\n",
    "        out = F.relu(self.fc1(out[:, -1, :]))\n",
    "        out = self.fc1_drop(out)\n",
    "        out = self.fc2(out)\n",
    "        \n",
    "        return out"
   ]
  },
  {
   "cell_type": "code",
   "execution_count": 11,
   "metadata": {},
   "outputs": [],
   "source": [
    "input_size = ELECTRODES\n",
    "hidden_size = 32\n",
    "num_layers = 3\n",
    "num_classes = len(CLASSES)\n",
    "dropout = 0.3\n",
    "\n",
    "model = RNN(input_size, hidden_size, num_layers, num_classes, dropout=dropout).to(device)\n",
    "\n",
    "# Loss and optimizer\n",
    "learning_rate = 0.001\n",
    "l2_reg = 0.001\n",
    "step_size = 60\n",
    "lr_decay = 0.5\n",
    "\n",
    "criterion = nn.CrossEntropyLoss()\n",
    "optimizer = torch.optim.Adam(model.parameters(), lr=learning_rate, weight_decay=l2_reg)\n",
    "scheduler = torch.optim.lr_scheduler.StepLR(optimizer, step_size=step_size, gamma=lr_decay)"
   ]
  },
  {
   "cell_type": "code",
   "execution_count": 10,
   "metadata": {
    "scrolled": false
   },
   "outputs": [
    {
     "data": {
      "image/png": "[encoded data removed]",
      "text/plain": [
       "<Figure size 864x576 with 2 Axes>"
      ]
     },
     "metadata": {
      "needs_background": "light"
     },
     "output_type": "display_data"
    }
   ],
   "source": [
    "epochs = 25\n",
    "batch = 32\n",
    "loss_history = []\n",
    "loss_history_val = []\n",
    "acc_history = []\n",
    "acc_history_val = []\n",
    "\n",
    "steps = math.ceil(data_train.shape[0] / batch)\n",
    "print('Epochs:', epochs, 'Batch:', batch, 'Steps:', steps)\n",
    "\n",
    "liveloss = PlotLosses()\n",
    "\n",
    "for epoch in range(epochs):  # loop over the dataset multiple times\n",
    "    print('===== epoch', epoch + 1, '=====')\n",
    "        \n",
    "    scheduler.step()\n",
    "    epoch_loss = 0.0\n",
    "    epoch_loss_val = 0.0\n",
    "    epoch_correct = 0\n",
    "    \n",
    "    for param_group in optimizer.param_groups:\n",
    "        print('>> lr:', param_group['lr'])\n",
    "        \n",
    "    # Shuffle dataset so epochs receive data in batches with different order\n",
    "    data_train, labels_train = shuffle(data_train, labels_train)\n",
    "    \n",
    "    for i in range(steps):\n",
    "        # get the inputs\n",
    "        #batch, time, channels, height, width\n",
    "        batch_data = torch.from_numpy(data_train[batch * i : batch * i + batch])\n",
    "        batch_labels = torch.from_numpy(labels_train[batch * i : batch * i + batch])\n",
    "        \n",
    "        #print(batch_data.shape, batch_labels.shape)\n",
    "        \n",
    "        # Changed for using GPU\n",
    "        batch_data = batch_data.to(device, dtype=torch.float)\n",
    "        batch_labels = batch_labels.to(device, dtype=torch.long)\n",
    "        \n",
    "        # Forward pass\n",
    "        outputs = model(batch_data)\n",
    "        loss = criterion(outputs, batch_labels)\n",
    "        \n",
    "        epoch_loss += loss.data[0]  \n",
    "        epoch_correct += (outputs.max(1)[1] == batch_labels).sum().data[0]\n",
    "        \n",
    "        # Backward and optimize\n",
    "        optimizer.zero_grad()\n",
    "        loss.backward()\n",
    "        optimizer.step()\n",
    "        \n",
    "        if (i+1) % 10 == 0:\n",
    "            print ('Epoch [{}/{}], Step [{}/{}], Loss: {:.6f}'.format(epoch + 1, epochs, i + 1, steps, loss.item()))\n",
    "            \n",
    "    loss_history.append(epoch_loss / steps)\n",
    "    acc_history.append(epoch_correct.item() / (steps * batch) * 100)\n",
    "    \n",
    "    with torch.no_grad(): # We don't want to track gradients now because we are not training the network.\n",
    "        outputs_val = model(data_val)\n",
    "        loss = criterion(outputs_val, labels_val)\n",
    "\n",
    "        epoch_loss_val = loss.data[0]\n",
    "\n",
    "        _, predicted_val = torch.max(outputs_val.data, 1)\n",
    "        total = labels_val.size(0)\n",
    "        epoch_correct_val = (predicted_val == labels_val).sum().item()\n",
    "\n",
    "    loss_history_val.append(epoch_loss_val)\n",
    "    acc_history_val.append((epoch_correct_val / total) * 100)\n",
    "\n",
    "    liveloss.update({\n",
    "        'log loss': loss_history[-1],\n",
    "        'val_log loss': loss_history_val[-1],\n",
    "        'accuracy': acc_history[-1],\n",
    "        'val_accuracy': acc_history_val[-1]\n",
    "    })\n",
    "    liveloss.draw()"
   ]
  },
  {
   "cell_type": "code",
   "execution_count": 11,
   "metadata": {},
   "outputs": [
    {
     "name": "stdout",
     "output_type": "stream",
     "text": [
      "accuracy: 98.36867862969005\n",
      "precision: [ 99.03846154 100.         100.         100.          94.80519481\n",
      "  95.69892473  98.66666667]\n",
      "recall: [100.         100.         100.         100.          98.64864865\n",
      "  95.69892473  93.67088608]\n",
      "f1_score: [ 99.51690821 100.         100.         100.          96.68874172\n",
      "  95.69892473  96.1038961 ]\n"
     ]
    }
   ],
   "source": [
    "with torch.no_grad(): # We don't want to track gradients now because we are not training the network.\n",
    "    outputs_val = model(data_val)\n",
    "\n",
    "_, predicted_val = torch.max(outputs_val.data, 1)\n",
    "\n",
    "total = labels_val.size(0)\n",
    "correct = (predicted_val == labels_val).sum().item()\n",
    "score = correct / total\n",
    "\n",
    "[precision, recall, f1_score, _] = precision_recall_fscore_support(labels_val, predicted_val, average=None,\n",
    "                                                                   pos_label=1)\n",
    "    \n",
    "print(\"accuracy:\", score * 100)\n",
    "print(\"precision:\", precision * 100)\n",
    "print(\"recall:\", recall * 100)\n",
    "print(\"f1_score:\", f1_score * 100)"
   ]
  },
  {
   "cell_type": "code",
   "execution_count": 12,
   "metadata": {
    "scrolled": false
   },
   "outputs": [
    {
     "name": "stdout",
     "output_type": "stream",
     "text": [
      "Confusion matrix, without normalization\n"
     ]
    },
    {
     "data": {
      "image/png": "[encoded data removed]",
      "text/plain": [
       "<Figure size 432x288 with 2 Axes>"
      ]
     },
     "metadata": {
      "needs_background": "light"
     },
     "output_type": "display_data"
    }
   ],
   "source": [
    "cnf_matrix = confusion_matrix(labels_val, predicted_val)\n",
    "\n",
    "plt.figure()\n",
    "plot_confusion_matrix(cnf_matrix, normalize=False, classes=CLASSES, title='Confusion matrix')"
   ]
  },
  {
   "cell_type": "markdown",
   "metadata": {},
   "source": [
    "## Read test dataset"
   ]
  },
  {
   "cell_type": "code",
   "execution_count": 13,
   "metadata": {
    "scrolled": true
   },
   "outputs": [
    {
     "name": "stdout",
     "output_type": "stream",
     "text": [
      "(0, 10, 24)\n",
      "(0,)\n",
      "./datasets/test/n-10-ff\n",
      "(221, 10, 24)\n",
      "(221, 1)\n",
      "(221, 10, 24)\n",
      "(221,)\n",
      "./datasets/test/s-10-ff\n",
      "(220, 10, 24)\n",
      "(220, 1)\n",
      "(441, 10, 24)\n",
      "(441,)\n",
      "./datasets/test/e-10-ff\n",
      "(222, 10, 24)\n",
      "(222, 1)\n",
      "(663, 10, 24)\n",
      "(663,)\n",
      "./datasets/test/w-10-ff\n",
      "(220, 10, 24)\n",
      "(220, 1)\n",
      "(883, 10, 24)\n",
      "(883,)\n",
      "./datasets/test/cw-10-ff\n",
      "(221, 10, 24)\n",
      "(221, 1)\n",
      "(1104, 10, 24)\n",
      "(1104,)\n",
      "./datasets/test/aw-10-ff\n",
      "(222, 10, 24)\n",
      "(222, 1)\n",
      "(1326, 10, 24)\n",
      "(1326,)\n",
      "./datasets/test/t-10-ff\n",
      "(220, 10, 24)\n",
      "(220, 1)\n",
      "(1546, 10, 24)\n",
      "(1546,)\n"
     ]
    }
   ],
   "source": [
    "dataset_test = np.zeros((0, WINDOW, ELECTRODES))\n",
    "labels_test = np.zeros((0))\n",
    "    \n",
    "print(dataset_test.shape)\n",
    "print(labels_test.shape)\n",
    "\n",
    "for class_name in CLASSES:\n",
    "    file = FOLDER_TEST + class_name + '-' + str(WINDOW) + '-ff'\n",
    "    \n",
    "    print(file)\n",
    "    \n",
    "    class_data = np.load(file + '-data.npy')\n",
    "    class_labels = np.load(file + '-labels.npy')\n",
    "    \n",
    "    print(class_data.shape)\n",
    "    print(class_labels.shape)\n",
    "    \n",
    "    dataset_test = np.append(dataset_test, class_data, axis=0)\n",
    "    labels_test = np.append(labels_test, np.reshape(class_labels, (class_labels.shape[0])), axis=0)\n",
    "    \n",
    "    print(dataset_test.shape)\n",
    "    print(labels_test.shape)\n",
    "\n",
    "# Normalize data! Really necessary in this dataset\n",
    "x_min = dataset_test.min(axis=(2), keepdims=True)\n",
    "x_max = dataset_test.max(axis=(2), keepdims=True)\n",
    "\n",
    "dataset_test = (dataset_test - x_min)/(x_max - x_min)"
   ]
  },
  {
   "cell_type": "code",
   "execution_count": 14,
   "metadata": {},
   "outputs": [
    {
     "data": {
      "text/plain": [
       "(array([0.16677447, 0.16601984, 0.16752911, 0.16601984, 0.16677447,\n",
       "        0.16752911, 0.16601984]),\n",
       " array([0.        , 0.85714286, 1.71428571, 2.57142857, 3.42857143,\n",
       "        4.28571429, 5.14285714, 6.        ]),\n",
       " <a list of 7 Patch objects>)"
      ]
     },
     "execution_count": 14,
     "metadata": {},
     "output_type": "execute_result"
    },
    {
     "data": {
      "image/png": "[encoded data removed]",
      "text/plain": [
       "<Figure size 432x288 with 1 Axes>"
      ]
     },
     "metadata": {
      "needs_background": "light"
     },
     "output_type": "display_data"
    }
   ],
   "source": [
    "plt.hist(labels_test, bins=len(CLASSES), density=True, facecolor='g', alpha=0.75)"
   ]
  },
  {
   "cell_type": "code",
   "execution_count": 15,
   "metadata": {},
   "outputs": [],
   "source": [
    "# Changed for using GPU\n",
    "dataset_test = torch.from_numpy(dataset_test)\n",
    "dataset_test = dataset_test.to(device, dtype=torch.float)\n",
    "\n",
    "labels_test = torch.from_numpy(labels_test)\n",
    "labels_test = labels_test.to(device, dtype=torch.long)"
   ]
  },
  {
   "cell_type": "markdown",
   "metadata": {},
   "source": [
    "## Check model performance on test set"
   ]
  },
  {
   "cell_type": "code",
   "execution_count": 16,
   "metadata": {},
   "outputs": [
    {
     "name": "stdout",
     "output_type": "stream",
     "text": [
      "accuracy: 74.83829236739975\n",
      "precision: [100.          88.66396761  97.36842105 100.          37.72893773\n",
      "  48.77192982  45.83333333]\n",
      "recall: [100.          99.54545455 100.         100.          46.60633484\n",
      "  62.61261261  15.        ]\n",
      "f1_score: [100.          93.79014989  98.66666667 100.          41.70040486\n",
      "  54.83234714  22.60273973]\n"
     ]
    }
   ],
   "source": [
    "with torch.no_grad(): # We don't want to track gradients now because we are not training the network.\n",
    "    outputs_test = model(dataset_test)\n",
    "\n",
    "_, predicted_test = torch.max(outputs_test.data, 1)\n",
    "\n",
    "total_test = labels_test.size(0)\n",
    "correct_test = (predicted_test == labels_test).sum().item()\n",
    "score_test = correct_test / total_test\n",
    "\n",
    "[precision_test, recall_test, f1_score_test, _] = precision_recall_fscore_support(labels_test, predicted_test,\n",
    "                                                                                  average=None, pos_label=1)\n",
    "    \n",
    "print(\"accuracy:\", score_test * 100)\n",
    "print(\"precision:\", precision_test * 100)\n",
    "print(\"recall:\", recall_test * 100)\n",
    "print(\"f1_score:\", f1_score_test * 100)"
   ]
  },
  {
   "cell_type": "code",
   "execution_count": 17,
   "metadata": {
    "scrolled": false
   },
   "outputs": [
    {
     "name": "stdout",
     "output_type": "stream",
     "text": [
      "Confusion matrix, without normalization\n"
     ]
    },
    {
     "data": {
      "image/png": "[encoded data removed]",
      "text/plain": [
       "<Figure size 432x288 with 2 Axes>"
      ]
     },
     "metadata": {
      "needs_background": "light"
     },
     "output_type": "display_data"
    }
   ],
   "source": [
    "cnf_matrix_test = confusion_matrix(labels_test, predicted_test)\n",
    "\n",
    "plt.figure()\n",
    "plot_confusion_matrix(cnf_matrix_test, normalize=False, classes=CLASSES, title='Confusion matrix TEST')"
   ]
  },
  {
   "cell_type": "code",
   "execution_count": null,
   "metadata": {},
   "outputs": [],
   "source": []
  }
 ],
 "metadata": {
  "kernelspec": {
   "display_name": "Python [default]",
   "language": "python",
   "name": "python3"
  },
  "language_info": {
   "codemirror_mode": {
    "name": "ipython",
    "version": 3
   },
   "file_extension": ".py",
   "mimetype": "text/x-python",
   "name": "python",
   "nbconvert_exporter": "python",
   "pygments_lexer": "ipython3",
   "version": "3.6.5"
  }
 },
 "nbformat": 4,
 "nbformat_minor": 2
}
