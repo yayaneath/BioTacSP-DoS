{
 "cells": [
  {
   "cell_type": "code",
   "execution_count": 1,
   "metadata": {},
   "outputs": [],
   "source": [
    "# 'capas', 'num_filtros', 'tam_filtros', 'num_frames'\n",
    "EXP_FILE = './experiments/capas/1.pkl'\n",
    "MODEL_NAME = 'fold-1'\n",
    "\n",
    "FOLDER_TEST = './datasets/test/'\n",
    "\n",
    "CLASSES = ['n', 's', 'e', 'w', 'cw', 'aw', 't']\n",
    "\n",
    "WINDOW = 10\n",
    "ELECTRODES = 24\n",
    "TACTILE_IMAGE_ROWS = 12\n",
    "TACTILE_IMAGE_COLS = 11\n",
    "CHANNELS = 1"
   ]
  },
  {
   "cell_type": "code",
   "execution_count": 2,
   "metadata": {},
   "outputs": [],
   "source": [
    "import numpy as np\n",
    "import pickle\n",
    "import math\n",
    "\n",
    "from sklearn.metrics import confusion_matrix\n",
    "from sklearn.metrics import precision_recall_fscore_support\n",
    "\n",
    "import torch\n",
    "import torch.nn as nn\n",
    "import torch.nn.functional as F\n",
    "from torch.autograd import Variable\n",
    "\n",
    "import itertools\n",
    "import matplotlib.pyplot as plt\n",
    "%matplotlib inline"
   ]
  },
  {
   "cell_type": "code",
   "execution_count": 3,
   "metadata": {},
   "outputs": [
    {
     "name": "stdout",
     "output_type": "stream",
     "text": [
      "cuda\n"
     ]
    }
   ],
   "source": [
    "# Device configuration\n",
    "device = torch.device('cuda' if torch.cuda.is_available() else 'cpu')\n",
    "#device = torch.device('cpu')\n",
    "print(device)"
   ]
  },
  {
   "cell_type": "code",
   "execution_count": 4,
   "metadata": {},
   "outputs": [],
   "source": [
    "#https://scikit-learn.org/stable/auto_examples/model_selection/plot_confusion_matrix.html#sphx-\n",
    "#glr-auto-examples-model-selection-plot-confusion-matrix-py\n",
    "def plot_confusion_matrix(cm, classes,\n",
    "                          normalize=False,\n",
    "                          title='Confusion matrix',\n",
    "                          cmap=plt.cm.Blues):\n",
    "    \"\"\"\n",
    "    This function prints and plots the confusion matrix.\n",
    "    Normalization can be applied by setting `normalize=True`.\n",
    "    \"\"\"\n",
    "    if normalize:\n",
    "        cm = cm.astype('float') / cm.sum(axis=1)[:, np.newaxis]\n",
    "        print(\"Normalized confusion matrix\")\n",
    "    else:\n",
    "        print('Confusion matrix, without normalization')\n",
    "\n",
    "    #print(cm)\n",
    "\n",
    "    plt.imshow(cm, interpolation='nearest', cmap=cmap)\n",
    "    plt.title(title)\n",
    "    plt.colorbar()\n",
    "    tick_marks = np.arange(len(classes))\n",
    "    plt.xticks(tick_marks, classes, rotation=45)\n",
    "    plt.yticks(tick_marks, classes)\n",
    "\n",
    "    fmt = '.2f' if normalize else 'd'\n",
    "    thresh = cm.max() / 2.\n",
    "    for i, j in itertools.product(range(cm.shape[0]), range(cm.shape[1])):\n",
    "        plt.text(j, i, format(cm[i, j], fmt),\n",
    "                 horizontalalignment=\"center\",\n",
    "                 color=\"white\" if cm[i, j] > thresh else \"black\")\n",
    "\n",
    "    plt.ylabel('True label')\n",
    "    plt.xlabel('Predicted label')\n",
    "    plt.tight_layout()"
   ]
  },
  {
   "cell_type": "code",
   "execution_count": 5,
   "metadata": {},
   "outputs": [],
   "source": [
    "#https://github.com/automan000/Convolution_LSTM_PyTorch\n",
    "\n",
    "class ConvLSTMCell(nn.Module):\n",
    "    def __init__(self, input_channels, hidden_channels, kernel_size, bias=True):\n",
    "        super(ConvLSTMCell, self).__init__()\n",
    "\n",
    "        assert hidden_channels % 2 == 0\n",
    "\n",
    "        self.input_channels = input_channels\n",
    "        self.hidden_channels = hidden_channels\n",
    "        self.bias = bias\n",
    "        self.kernel_size = kernel_size\n",
    "\n",
    "        self.padding = int((kernel_size - 1) / 2)\n",
    "\n",
    "        self.Wxi = nn.Conv2d(self.input_channels, self.hidden_channels, self.kernel_size, 1, self.padding, bias=True)\n",
    "        self.Whi = nn.Conv2d(self.hidden_channels, self.hidden_channels, self.kernel_size, 1, self.padding, bias=False)\n",
    "        self.Wxf = nn.Conv2d(self.input_channels, self.hidden_channels, self.kernel_size, 1, self.padding, bias=True)\n",
    "        self.Whf = nn.Conv2d(self.hidden_channels, self.hidden_channels, self.kernel_size, 1, self.padding, bias=False)\n",
    "        self.Wxc = nn.Conv2d(self.input_channels, self.hidden_channels, self.kernel_size, 1, self.padding, bias=True)\n",
    "        self.Whc = nn.Conv2d(self.hidden_channels, self.hidden_channels, self.kernel_size, 1, self.padding, bias=False)\n",
    "        self.Wxo = nn.Conv2d(self.input_channels, self.hidden_channels, self.kernel_size, 1, self.padding,  bias=True)\n",
    "        self.Who = nn.Conv2d(self.hidden_channels, self.hidden_channels, self.kernel_size, 1, self.padding, bias=False)\n",
    "\n",
    "        self.Wci = None\n",
    "        self.Wcf = None\n",
    "        self.Wco = None\n",
    "\n",
    "    def forward(self, x, h, c):\n",
    "        ci = torch.sigmoid(self.Wxi(x) + self.Whi(h) + c * self.Wci)\n",
    "        cf = torch.sigmoid(self.Wxf(x) + self.Whf(h) + c * self.Wcf)\n",
    "        cc = cf * c + ci * torch.tanh(self.Wxc(x) + self.Whc(h))\n",
    "        co = torch.sigmoid(self.Wxo(x) + self.Who(h) + cc * self.Wco)\n",
    "        ch = co * torch.tanh(cc)\n",
    "        \n",
    "        return ch, cc\n",
    "\n",
    "    def init_hidden(self, batch_size, hidden, shape):\n",
    "        self.Wci = Variable(torch.zeros(1, hidden, shape[0], shape[1])).to(device)\n",
    "        self.Wcf = Variable(torch.zeros(1, hidden, shape[0], shape[1])).to(device)\n",
    "        self.Wco = Variable(torch.zeros(1, hidden, shape[0], shape[1])).to(device)\n",
    "        \n",
    "        return (Variable(torch.zeros(batch_size, hidden, shape[0], shape[1])).to(device),\n",
    "                Variable(torch.zeros(batch_size, hidden, shape[0], shape[1])).to(device))"
   ]
  },
  {
   "cell_type": "code",
   "execution_count": 6,
   "metadata": {},
   "outputs": [],
   "source": [
    "class ConvLSTM(nn.Module):\n",
    "    # input_channels corresponds to the first input feature map\n",
    "    # hidden state is a list of succeeding lstm layers.\n",
    "    def __init__(self, input_channels, hidden_channels, kernel_sizes, num_classes, sequence_length,\n",
    "                 dropout=0.25, bias=True):\n",
    "        super(ConvLSTM, self).__init__()\n",
    "        \n",
    "        assert len(hidden_channels) == len(kernel_sizes)\n",
    "        \n",
    "        self.input_channels = [input_channels] + hidden_channels\n",
    "        self.hidden_channels = hidden_channels\n",
    "        self.kernel_sizes = kernel_sizes\n",
    "        self.num_layers = len(hidden_channels)\n",
    "        self.sequence_length = sequence_length\n",
    "        self.bias = bias\n",
    "        self._all_layers = []\n",
    "        \n",
    "        for i in range(self.num_layers):\n",
    "            name = 'cell{}'.format(i)\n",
    "            cell = ConvLSTMCell(self.input_channels[i], self.hidden_channels[i], self.kernel_sizes[i], self.bias)\n",
    "            \n",
    "            setattr(self, name, cell)\n",
    "            self._all_layers.append(cell)\n",
    "            \n",
    "            print(name)\n",
    "            print(cell)\n",
    "        \n",
    "        # https://discuss.pytorch.org/t/global-average-pooling-in-pytorch/6721\n",
    "        self.avg_pool2d = nn.AvgPool2d((TACTILE_IMAGE_ROWS, TACTILE_IMAGE_COLS))\n",
    "        self.fc1 = nn.Linear(hidden_channels[-1], hidden_channels[-1])\n",
    "        self.fc1_bn = nn.BatchNorm1d(hidden_channels[-1])\n",
    "        self.fc1_drop = nn.Dropout(p=dropout)\n",
    "        self.fc2 = nn.Linear(hidden_channels[-1], num_classes)\n",
    "\n",
    "    def forward(self, input):\n",
    "        internal_state = []\n",
    "        outputs = []\n",
    "        \n",
    "        for step in range(self.sequence_length):\n",
    "            #print('#### step ', step)\n",
    "            x = input[:, step, :, :, :]\n",
    "            \n",
    "            for i in range(self.num_layers):\n",
    "                # all cells are initialized in the first step\n",
    "                name = 'cell{}'.format(i)\n",
    "                \n",
    "                if step == 0:\n",
    "                    #print('init hidden')\n",
    "                    #print('input', x.shape)\n",
    "                    #print(name)\n",
    "                    \n",
    "                    bsize, _, height, width = x.size()\n",
    "                    (h, c) = getattr(self, name).init_hidden(batch_size=bsize, hidden=self.hidden_channels[i], \n",
    "                                                             shape=(height, width))\n",
    "                    #print('h', h.shape)\n",
    "                    #print('c', c.shape)\n",
    "                    \n",
    "                    internal_state.append((h, c))\n",
    "                    \n",
    "                    #print('internal_state', len(internal_state))\n",
    "\n",
    "                # do forward\n",
    "                (h, c) = internal_state[i]\n",
    "                x, new_c = getattr(self, name)(x, h, c)\n",
    "                internal_state[i] = (x, new_c)\n",
    "                \n",
    "            # only record last steps\n",
    "            #if step == self.sequence_length - 1:\n",
    "            #    outputs.append(x)\n",
    "            #    print('output', x.shape)\n",
    "                \n",
    "        #return outputs, (x, new_c)\n",
    "        \n",
    "        # Get last step and pass it to classifier\n",
    "        out = self.avg_pool2d(x)\n",
    "        out = torch.squeeze(out)\n",
    "        #out = F.relu(self.fc1_bn(self.fc1(out)))\n",
    "        out = F.relu(self.fc1(out))\n",
    "        out = self.fc1_drop(out)\n",
    "        out = self.fc2(out)\n",
    "\n",
    "        return out"
   ]
  },
  {
   "cell_type": "code",
   "execution_count": 7,
   "metadata": {},
   "outputs": [
    {
     "name": "stdout",
     "output_type": "stream",
     "text": [
      "cell0\n",
      "ConvLSTMCell(\n",
      "  (Wxi): Conv2d(1, 16, kernel_size=(3, 3), stride=(1, 1), padding=(1, 1))\n",
      "  (Whi): Conv2d(16, 16, kernel_size=(3, 3), stride=(1, 1), padding=(1, 1), bias=False)\n",
      "  (Wxf): Conv2d(1, 16, kernel_size=(3, 3), stride=(1, 1), padding=(1, 1))\n",
      "  (Whf): Conv2d(16, 16, kernel_size=(3, 3), stride=(1, 1), padding=(1, 1), bias=False)\n",
      "  (Wxc): Conv2d(1, 16, kernel_size=(3, 3), stride=(1, 1), padding=(1, 1))\n",
      "  (Whc): Conv2d(16, 16, kernel_size=(3, 3), stride=(1, 1), padding=(1, 1), bias=False)\n",
      "  (Wxo): Conv2d(1, 16, kernel_size=(3, 3), stride=(1, 1), padding=(1, 1))\n",
      "  (Who): Conv2d(16, 16, kernel_size=(3, 3), stride=(1, 1), padding=(1, 1), bias=False)\n",
      ")\n"
     ]
    }
   ],
   "source": [
    "# Create ConvLSTM\n",
    "hidden_channels = [16]\n",
    "kernel_sizes = [3]\n",
    "dropout = 0.0\n",
    "\n",
    "convlstm = ConvLSTM(input_channels=CHANNELS, hidden_channels=hidden_channels, kernel_sizes=kernel_sizes,\n",
    "                    num_classes=len(CLASSES), sequence_length=WINDOW, dropout=dropout).to(device)"
   ]
  },
  {
   "cell_type": "code",
   "execution_count": 8,
   "metadata": {},
   "outputs": [],
   "source": [
    "checkpoint = torch.load(EXP_FILE + '.pt')\n",
    "\n",
    "convlstm.load_state_dict(checkpoint[MODEL_NAME])"
   ]
  },
  {
   "cell_type": "code",
   "execution_count": 9,
   "metadata": {
    "scrolled": true
   },
   "outputs": [
    {
     "name": "stdout",
     "output_type": "stream",
     "text": [
      "(0, 10, 12, 11)\n",
      "(0,)\n",
      "./datasets/test/n-10-ff\n",
      "(221, 10, 12, 11)\n",
      "(221, 1)\n",
      "(221, 10, 12, 11)\n",
      "(221,)\n",
      "./datasets/test/s-10-ff\n",
      "(220, 10, 12, 11)\n",
      "(220, 1)\n",
      "(441, 10, 12, 11)\n",
      "(441,)\n",
      "./datasets/test/e-10-ff\n",
      "(222, 10, 12, 11)\n",
      "(222, 1)\n",
      "(663, 10, 12, 11)\n",
      "(663,)\n",
      "./datasets/test/w-10-ff\n",
      "(220, 10, 12, 11)\n",
      "(220, 1)\n",
      "(883, 10, 12, 11)\n",
      "(883,)\n",
      "./datasets/test/cw-10-ff\n",
      "(221, 10, 12, 11)\n",
      "(221, 1)\n",
      "(1104, 10, 12, 11)\n",
      "(1104,)\n",
      "./datasets/test/aw-10-ff\n",
      "(222, 10, 12, 11)\n",
      "(222, 1)\n",
      "(1326, 10, 12, 11)\n",
      "(1326,)\n",
      "./datasets/test/t-10-ff\n",
      "(220, 10, 12, 11)\n",
      "(220, 1)\n",
      "(1546, 10, 12, 11)\n",
      "(1546,)\n"
     ]
    }
   ],
   "source": [
    "dataset_test = np.zeros((0, WINDOW, TACTILE_IMAGE_ROWS, TACTILE_IMAGE_COLS))\n",
    "labels_test = np.zeros((0))\n",
    "    \n",
    "print(dataset_test.shape)\n",
    "print(labels_test.shape)\n",
    "\n",
    "for class_name in CLASSES:\n",
    "    file = FOLDER_TEST + class_name + '-' + str(WINDOW) + '-ff'\n",
    "    \n",
    "    print(file)\n",
    "    \n",
    "    class_data = np.load(file + '-data-image.npy')\n",
    "    class_labels = np.load(file + '-labels-image.npy')\n",
    "    \n",
    "    print(class_data.shape)\n",
    "    print(class_labels.shape)\n",
    "    \n",
    "    dataset_test = np.append(dataset_test, class_data, axis=0)\n",
    "    labels_test = np.append(labels_test, np.reshape(class_labels, (class_labels.shape[0])), axis=0)\n",
    "    \n",
    "    print(dataset_test.shape)\n",
    "    print(labels_test.shape)"
   ]
  },
  {
   "cell_type": "code",
   "execution_count": 10,
   "metadata": {},
   "outputs": [
    {
     "data": {
      "text/plain": [
       "(array([0.16677447, 0.16601984, 0.16752911, 0.16601984, 0.16677447,\n",
       "        0.16752911, 0.16601984]),\n",
       " array([0.        , 0.85714286, 1.71428571, 2.57142857, 3.42857143,\n",
       "        4.28571429, 5.14285714, 6.        ]),\n",
       " <a list of 7 Patch objects>)"
      ]
     },
     "execution_count": 10,
     "metadata": {},
     "output_type": "execute_result"
    },
    {
     "data": {
      "image/png": "[encoded data removed]",
      "text/plain": [
       "<Figure size 432x288 with 1 Axes>"
      ]
     },
     "metadata": {
      "needs_background": "light"
     },
     "output_type": "display_data"
    }
   ],
   "source": [
    "plt.hist(labels_test, bins=len(CLASSES), density=True, facecolor='g', alpha=0.75)"
   ]
  },
  {
   "cell_type": "code",
   "execution_count": 11,
   "metadata": {},
   "outputs": [
    {
     "name": "stdout",
     "output_type": "stream",
     "text": [
      "Dataset test reshaped\n",
      "(1546, 10, 1, 12, 11)\n"
     ]
    }
   ],
   "source": [
    "# Reshape data to include channels: batch, time, channels, height (rows), width (cols) \n",
    "dataset_test = dataset_test.reshape((dataset_test.shape[0], dataset_test.shape[1], CHANNELS, \n",
    "                                     dataset_test.shape[2], dataset_test.shape[3]))\n",
    "\n",
    "print('Dataset test reshaped')\n",
    "print(dataset_test.shape)"
   ]
  },
  {
   "cell_type": "code",
   "execution_count": 12,
   "metadata": {},
   "outputs": [],
   "source": [
    "# Changed for using GPU\n",
    "dataset_test = torch.from_numpy(dataset_test)\n",
    "dataset_test = dataset_test.to(device, dtype=torch.float)\n",
    "\n",
    "labels_test = torch.from_numpy(labels_test)\n",
    "labels_test = labels_test.to(device, dtype=torch.long)"
   ]
  },
  {
   "cell_type": "code",
   "execution_count": 13,
   "metadata": {},
   "outputs": [
    {
     "name": "stdout",
     "output_type": "stream",
     "text": [
      "accuracy: 47.153945666235444\n",
      "precision: [ 0.         51.44694534 77.89473684 84.61538462 18.4057971   0.\n",
      "  0.        ]\n",
      "recall: [  0.          72.72727273 100.         100.          57.46606335\n",
      "   0.           0.        ]\n",
      "f1_score: [ 0.         60.26365348 87.5739645  91.66666667 27.88144896  0.\n",
      "  0.        ]\n"
     ]
    },
    {
     "name": "stderr",
     "output_type": "stream",
     "text": [
      "/home/brayan/.local/lib/python3.5/site-packages/sklearn/metrics/classification.py:1143: UndefinedMetricWarning: Precision and F-score are ill-defined and being set to 0.0 in labels with no predicted samples.\n",
      "  'precision', 'predicted', average, warn_for)\n"
     ]
    }
   ],
   "source": [
    "with torch.no_grad(): # We don't want to track gradients now because we are not training the network.\n",
    "    outputs_test = convlstm(dataset_test)\n",
    "\n",
    "_, predicted_test = torch.max(outputs_test.data, 1)\n",
    "\n",
    "total_test = labels_test.size(0)\n",
    "correct_test = (predicted_test == labels_test).sum().item()\n",
    "score_test = correct_test / total_test\n",
    "\n",
    "[precision_test, recall_test, f1_score_test, _] = precision_recall_fscore_support(labels_test, predicted_test,\n",
    "                                                                                  average=None, pos_label=1)\n",
    "    \n",
    "print(\"accuracy:\", score_test * 100)\n",
    "print(\"precision:\", precision_test * 100)\n",
    "print(\"recall:\", recall_test * 100)\n",
    "print(\"f1_score:\", f1_score_test * 100)"
   ]
  },
  {
   "cell_type": "code",
   "execution_count": 14,
   "metadata": {},
   "outputs": [
    {
     "name": "stdout",
     "output_type": "stream",
     "text": [
      "Confusion matrix, without normalization\n"
     ]
    },
    {
     "data": {
      "image/png": "[encoded data removed]",
      "text/plain": [
       "<Figure size 432x288 with 2 Axes>"
      ]
     },
     "metadata": {
      "needs_background": "light"
     },
     "output_type": "display_data"
    }
   ],
   "source": [
    "cnf_matrix_test = confusion_matrix(labels_test, predicted_test)\n",
    "\n",
    "plt.figure()\n",
    "plot_confusion_matrix(cnf_matrix_test, normalize=False, classes=CLASSES, title='Confusion matrix TEST')"
   ]
  },
  {
   "cell_type": "code",
   "execution_count": 16,
   "metadata": {},
   "outputs": [],
   "source": [
    "with open(EXP_FILE + '-test', 'wb+') as f:\n",
    "    # Test set information\n",
    "    pickle.dump(FOLDER_TEST, f)\n",
    "\n",
    "    pickle.dump(score_test, f)\n",
    "    pickle.dump(precision_test, f)\n",
    "    pickle.dump(recall_test, f)\n",
    "    pickle.dump(f1_score_test, f)\n",
    "\n",
    "    pickle.dump(cnf_matrix_test, f)"
   ]
  },
  {
   "cell_type": "code",
   "execution_count": null,
   "metadata": {},
   "outputs": [],
   "source": []
  }
 ],
 "metadata": {
  "kernelspec": {
   "display_name": "Python [default]",
   "language": "python",
   "name": "python3"
  },
  "language_info": {
   "codemirror_mode": {
    "name": "ipython",
    "version": 3
   },
   "file_extension": ".py",
   "mimetype": "text/x-python",
   "name": "python",
   "nbconvert_exporter": "python",
   "pygments_lexer": "ipython3",
   "version": "3.6.5"
  }
 },
 "nbformat": 4,
 "nbformat_minor": 2
}
