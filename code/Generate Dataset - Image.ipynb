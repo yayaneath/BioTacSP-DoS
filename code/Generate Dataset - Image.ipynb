{
 "cells": [
  {
   "cell_type": "markdown",
   "metadata": {},
   "source": [
    "### Restart the kernel each time you want to generate a new set. Otherwise, for some reason, the parallel workers will use the same variable values they had on their first execution."
   ]
  },
  {
   "cell_type": "code",
   "execution_count": 1,
   "metadata": {},
   "outputs": [],
   "source": [
    "from joblib import Parallel, delayed\n",
    "import multiprocessing\n",
    "\n",
    "from os import listdir\n",
    "from os.path import isfile, join\n",
    "import numpy as np\n",
    "\n",
    "from scipy.ndimage import rotate\n",
    "\n",
    "import matplotlib.pyplot as plt\n",
    "%matplotlib inline"
   ]
  },
  {
   "cell_type": "code",
   "execution_count": 2,
   "metadata": {},
   "outputs": [],
   "source": [
    "#['stable', 'slip-tra', 'slip-rot']\n",
    "LABELS = ['n', 's', 'e', 'w', 'cw', 'aw', 't']\n",
    "OBJECTS = ['pen', 'case', 'sponge', 'hd' #basic\n",
    "        #, 'cardboard', 'bottle' #more solids\n",
    "        #, 'brush', 'screw' #small\n",
    "        #, 'plate', 'bubbles', 'striped' #textures\n",
    "        ]\n",
    "SET_TYPE = 'train' #'train' 'test' 'test/textures'\n",
    "SENSOR_ID = 1 #0 - ff, 1 - mf, 2 - th\n",
    "FINGERS = 3\n",
    "ELECTRODES = 24\n",
    "TIME_WINDOW = 5\n",
    "STEP = 0\n",
    "SAMPLE_WITH_STEP = STEP > 0\n",
    "\n",
    "TACTILE_IMAGE_ROWS = 12\n",
    "TACTILE_IMAGE_COLS = 11\n",
    "ELECTRODES_INDEX_ROWS = np.array([0, 1, 4, 5, 6, 7, 8, 9, 10, 11, 0, 1, 4, 5, 6, 7, 8, 9, 10, 11, 2, 3, 3, 5])\n",
    "ELECTRODES_INDEX_COLS = np.array([1, 2, 0, 1, 3, 0, 1, 4, 2, 1, 9, 8, 10, 9, 7, 10, 9, 6, 8, 9, 5, 4, 6, 5])\n",
    "\n",
    "# Returns the values of the 8 neighbours of a given cell.\n",
    "# This method is meant to be called with the gaps in tactile cells.\n",
    "def get_neighbours(tactile_image, cell_x, cell_y):\n",
    "    pad = 2\n",
    "    padded_x = cell_x + pad\n",
    "    padded_y = cell_y + pad\n",
    "\n",
    "    padded = np.pad(tactile_image, ((pad, pad), (pad, pad)), 'constant') #0s\n",
    "\n",
    "    neighbours_xs = [padded_x - 1, padded_x - 1, padded_x - 1, \n",
    "                     padded_x, padded_x, \n",
    "                     padded_x + 1, padded_x + 1, padded_x + 1]\n",
    "    neighbours_ys = [padded_y - 1, padded_y, padded_y + 1,\n",
    "                     padded_y - 1, padded_y + 1,\n",
    "                     padded_y - 1, padded_y, padded_y + 1]\n",
    "    num_neighbours = len(neighbours_xs)\n",
    "    neighbours = []\n",
    "\n",
    "    for i in range(num_neighbours):\n",
    "        some_x = neighbours_xs[i]\n",
    "        some_y = neighbours_ys[i]\n",
    "        neighbours.append(padded[some_x, some_y])\n",
    "\n",
    "    return neighbours\n",
    "\n",
    "def ceros_2_mean(tactile_image):\n",
    "    prev_tactile_image = np.copy(tactile_image)\n",
    "    cero_xs, cero_ys = np.where(tactile_image == 0)\n",
    "\n",
    "    for i in range(len(cero_xs)):\n",
    "        cell_x = cero_xs[i]\n",
    "        cell_y = cero_ys[i]\n",
    "        cell_neighs = get_neighbours(prev_tactile_image, cell_x, cell_y)\n",
    "        cell_neighs = [value for value in cell_neighs if value > 0.0]\n",
    "\n",
    "        if len(cell_neighs) > 0:\n",
    "            tactile_image[cell_x, cell_y] = np.mean(cell_neighs)\n",
    "\n",
    "    return tactile_image    \n",
    "\n",
    "def create_finger_tactile_image(finger_biotac):\n",
    "    tactile_image = np.zeros(shape=(TACTILE_IMAGE_ROWS, TACTILE_IMAGE_COLS))\n",
    "    tactile_image[ELECTRODES_INDEX_ROWS, ELECTRODES_INDEX_COLS] = finger_biotac\n",
    "\n",
    "    # Strategy 2 - Fill with neighbours average\n",
    "    tactile_image = ceros_2_mean(tactile_image)\n",
    "\n",
    "    # Repeat in case that there were cells with no values as neighbours\n",
    "    # as in the 12x11 distribution so they are all filled now\n",
    "    if np.min(tactile_image) == 0.0:\n",
    "        tactile_image = ceros_2_mean(tactile_image)\n",
    "\n",
    "    # Feature scaling\n",
    "    tactile_image = (tactile_image - np.min(tactile_image)) / (np.max(tactile_image) - np.min(tactile_image))\n",
    "\n",
    "    return tactile_image\n",
    "\n",
    "def process_label_files(label_index, sample_with_step = False):\n",
    "    TYPE = LABELS[label_index]\n",
    "\n",
    "    DIR = './npys/' + TYPE + '/'\n",
    "    OUT_SET = './datasets/' + SET_TYPE + '/' + TYPE\n",
    "\n",
    "    STATE = label_index\n",
    "    \n",
    "    # Find files\n",
    "    all_files = [f for f in listdir(DIR) if isfile(join(DIR, f))]\n",
    "    files = []\n",
    "    \n",
    "    for file in all_files:\n",
    "        if any(obj in file for obj in OBJECTS):\n",
    "            files.append(file)\n",
    "            \n",
    "    print(files)\n",
    "    \n",
    "    dataset_np = np.zeros([0, FINGERS, ELECTRODES])\n",
    "    print(dataset_np.shape)\n",
    "    \n",
    "    for file in files:\n",
    "        data_np = np.load(DIR + file)\n",
    "\n",
    "        dataset_np = np.append(dataset_np, data_np, axis=0)\n",
    "\n",
    "    print(dataset_np.shape)\n",
    "    \n",
    "    # We are going to work with one sensor\n",
    "    dataset_np = dataset_np[:, SENSOR_ID, :]\n",
    "    print(dataset_np.shape)\n",
    "    \n",
    "    if not sample_with_step:\n",
    "        # Since we are going to use TIME_WINDOW-frames windows\n",
    "        # remove the left recordings\n",
    "        dataset_np = dataset_np[0:int((dataset_np.shape[0] / TIME_WINDOW)) * TIME_WINDOW]\n",
    "        print(dataset_np.shape)\n",
    "\n",
    "        # Reshape in SAMPLES, TIME_WINDOW, ELECTRODES\n",
    "        dataset_np = dataset_np.reshape([-1, TIME_WINDOW, ELECTRODES])\n",
    "        print(dataset_np.shape)\n",
    "    else:\n",
    "        samples_idx = np.array(range(dataset_np.shape[0]))\n",
    "        elements = len(samples_idx)\n",
    "\n",
    "        print('STEP', STEP, 'TIME_WINDOW', TIME_WINDOW)\n",
    "\n",
    "        segments = int(elements / (STEP * TIME_WINDOW))\n",
    "\n",
    "        print('Segments', segments)\n",
    "\n",
    "        dataset_aux = np.zeros([0, TIME_WINDOW, ELECTRODES])\n",
    "\n",
    "        for i in range(segments):\n",
    "            init = i * STEP * TIME_WINDOW\n",
    "            end = init + STEP * TIME_WINDOW - STEP + 1\n",
    "            sequence = samples_idx[init:end:STEP]\n",
    "\n",
    "            index = []\n",
    "\n",
    "            for j in sequence:\n",
    "                index.append(samples_idx[j:j + STEP])\n",
    "\n",
    "            index = np.array(index).T\n",
    "            \n",
    "            dataset_aux = np.concatenate((dataset_aux, dataset_np[index]))\n",
    "\n",
    "        dataset_np = dataset_aux\n",
    "        print(dataset_np.shape)\n",
    "\n",
    "    tactile_images = np.zeros(shape=(dataset_np.shape[0], dataset_np.shape[1], TACTILE_IMAGE_ROWS, TACTILE_IMAGE_COLS))\n",
    "    #tactile_images_flip = np.zeros(shape=(dataset_np.shape[0], dataset_np.shape[1], TACTILE_IMAGE_ROWS,\n",
    "    #                                      TACTILE_IMAGE_COLS))\n",
    "    #tactile_images_flip2 = np.zeros(shape=(dataset_np.shape[0], dataset_np.shape[1], TACTILE_IMAGE_ROWS,\n",
    "    #                                       TACTILE_IMAGE_COLS))\n",
    "    #tactile_images_rotate10 = np.zeros(shape=(dataset_np.shape[0], dataset_np.shape[1], TACTILE_IMAGE_ROWS,\n",
    "    #                                          TACTILE_IMAGE_COLS))\n",
    "    #tactile_images_rotate10m = np.zeros(shape=(dataset_np.shape[0], dataset_np.shape[1], TACTILE_IMAGE_ROWS,\n",
    "    #                                           TACTILE_IMAGE_COLS))\n",
    "\n",
    "    for sample in range(dataset_np.shape[0]):\n",
    "        rot = np.random.randint(1, high=11)\n",
    "        \n",
    "        for frame in range(dataset_np.shape[1]):\n",
    "            one_grasp = dataset_np[sample, frame]\n",
    "            one_tactile_image = create_finger_tactile_image(one_grasp)\n",
    "\n",
    "            tactile_images[sample, frame] = one_tactile_image\n",
    "            #tactile_images_flip[sample, frame] = np.fliplr(one_tactile_image)\n",
    "            #tactile_images_flip2[sample, frame] = np.flipud(one_tactile_image)\n",
    "            #tactile_images_rotate10[sample, frame] = rotate(one_tactile_image, rot, reshape=False, mode='nearest')\n",
    "            #tactile_images_rotate10m[sample, frame] = rotate(np.fliplr(one_tactile_image), rot, reshape=False,\n",
    "            #                                                 mode='nearest')\n",
    "    \n",
    "    some_sample = 0\n",
    "    some_frame = 0\n",
    "\n",
    "    print(dataset_np[some_sample, some_frame])\n",
    "    print(tactile_images[some_sample, some_frame])\n",
    "    \n",
    "    labels_np = np.ones([dataset_np.shape[0], 1], dtype=int) * STATE\n",
    "    \n",
    "    # Concatenate augmented set\n",
    "    #whole_labels = np.concatenate((labels_np, labels_np, labels_np, labels_np, labels_np), axis=0)\n",
    "    #whole_images = np.concatenate((tactile_images, tactile_images_flip, tactile_images_flip2, \n",
    "                                   #tactile_images_rotate10, tactile_images_rotate10m), axis=0)\n",
    "    \n",
    "    whole_labels = labels_np\n",
    "    whole_images = tactile_images\n",
    "    \n",
    "    print('Images set:', tactile_images.shape)\n",
    "    print('Labels:', labels_np.shape)\n",
    "    \n",
    "    # Save files\n",
    "    if not SAMPLE_WITH_STEP:\n",
    "        np.save(OUT_SET + '-' + str(TIME_WINDOW) + '-ff-data-image.npy', whole_images)\n",
    "        np.save(OUT_SET + '-' + str(TIME_WINDOW) + '-ff-labels-image.npy', whole_labels)\n",
    "    else:\n",
    "        np.save(OUT_SET + '-' + str(STEP) + '-' + str(TIME_WINDOW) + '-ff-data-image.npy', whole_images)\n",
    "        np.save(OUT_SET + '-' + str(STEP) + '-' + str(TIME_WINDOW) + '-ff-labels-image.npy', whole_labels)\n",
    "        \n",
    "    #return whole_images"
   ]
  },
  {
   "cell_type": "code",
   "execution_count": 3,
   "metadata": {},
   "outputs": [
    {
     "data": {
      "text/plain": [
       "[None, None, None, None, None, None, None]"
      ]
     },
     "execution_count": 3,
     "metadata": {},
     "output_type": "execute_result"
    }
   ],
   "source": [
    "cores = multiprocessing.cpu_count()\n",
    "\n",
    "Parallel(n_jobs=cores)(delayed(process_label_files)(i, sample_with_step = SAMPLE_WITH_STEP) for i in range(len(LABELS)))"
   ]
  },
  {
   "cell_type": "code",
   "execution_count": 5,
   "metadata": {
    "scrolled": true
   },
   "outputs": [
    {
     "name": "stdout",
     "output_type": "stream",
     "text": [
      "['plate-n_2018-11-19-10-15-51.npy', 'striped-n_2018-11-19-10-42-26.npy', 'bubbles-n_2018-11-19-10-28-11.npy', 'striped-n_2018-11-19-10-42-39.npy', 'plate-n_2018-11-19-10-15-38.npy', 'bubbles-n_2018-11-19-10-28-32.npy', 'plate-n_2018-11-19-10-15-44.npy', 'plate-n_2018-11-19-10-15-57.npy', 'bubbles-n_2018-11-19-10-28-40.npy', 'striped-n_2018-11-19-10-42-33.npy', 'bubbles-n_2018-11-19-10-28-19.npy', 'striped-n_2018-11-19-10-42-20.npy']\n",
      "(0, 3, 24)\n",
      "(3324, 3, 24)\n",
      "(3324, 24)\n",
      "(3320, 24)\n",
      "(664, 5, 24)\n",
      "[3537. 3698. 3541. 3646. 3478. 3510. 3675. 3501. 3415. 3083. 3603. 3708.\n",
      " 3620. 3539. 3490. 3582. 3557. 3470. 2978. 2722. 3711. 3684. 3690. 3515.]\n",
      "[[0.82406471 0.82406471 0.90546006 0.98685541 0.9934277  1.\n",
      "  0.99848332 0.99696663 0.94388271 0.89079879 0.89079879]\n",
      " [0.82406471 0.90546006 0.98685541 0.98685541 1.         1.\n",
      "  1.         0.99696663 0.99696663 0.94388271 0.89079879]\n",
      " [0.87451972 0.98685541 0.98685541 0.97977755 0.98634985 1.\n",
      "  0.98938322 0.98786653 0.99696663 0.99696663 0.92952477]\n",
      " [0.8281092  0.8281092  0.94280839 0.9726997  0.9726997  0.98382204\n",
      "  0.97876643 0.97876643 0.94255561 0.90798787 0.90798787]\n",
      " [0.8281092  0.88119312 0.93427705 0.9726997  0.88725986 0.91776205\n",
      "  0.89029323 0.97876643 0.82608696 0.86703741 0.90798787]\n",
      " [0.88119312 0.93427705 0.84934277 0.76440849 0.78311426 0.80182002\n",
      "  0.78918099 0.77654196 0.80131446 0.82608696 0.86703741]\n",
      " [0.86552073 0.86552073 0.84934277 0.76440849 0.78311426 0.80182002\n",
      "  0.78918099 0.77654196 0.80131446 0.84782609 0.84782609]\n",
      " [0.79676441 0.880182   0.86400404 0.76440849 0.76440849 0.77888018\n",
      "  0.77654196 0.77654196 0.81041456 0.85692619 0.86956522]\n",
      " [0.880182   0.9635996  0.9635996  0.78766431 0.78766431 0.77199191\n",
      "  0.75631951 0.75631951 0.84428716 0.84428716 0.85692619]\n",
      " [0.9635996  0.83215369 0.83215369 0.74418605 0.78766431 0.77199191\n",
      "  0.75631951 0.50758342 0.55156724 0.55156724 0.84428716]\n",
      " [0.36501517 0.53286148 0.70070779 0.74418605 0.78766431 0.77199191\n",
      "  0.75631951 0.50758342 0.25884732 0.12942366 0.        ]\n",
      " [0.36501517 0.36501517 0.53286148 0.70070779 0.75113751 0.77199191\n",
      "  0.57368554 0.25884732 0.12942366 0.         0.        ]]\n",
      "Images set: (664, 5, 12, 11)\n",
      "Labels: (664, 1)\n"
     ]
    }
   ],
   "source": [
    "whole_images = process_label_files(0, sample_with_step = SAMPLE_WITH_STEP)"
   ]
  },
  {
   "cell_type": "code",
   "execution_count": 8,
   "metadata": {},
   "outputs": [
    {
     "name": "stdout",
     "output_type": "stream",
     "text": [
      "664\n"
     ]
    },
    {
     "data": {
      "text/plain": [
       "<matplotlib.colorbar.Colorbar at 0x7f76c64172b0>"
      ]
     },
     "execution_count": 8,
     "metadata": {},
     "output_type": "execute_result"
    },
    {
     "data": {
      "image/png": "[encoded data removed]",
      "text/plain": [
       "<Figure size 432x288 with 2 Axes>"
      ]
     },
     "metadata": {
      "needs_background": "light"
     },
     "output_type": "display_data"
    },
    {
     "data": {
      "image/png": "[encoded data removed]",
      "text/plain": [
       "<Figure size 432x288 with 2 Axes>"
      ]
     },
     "metadata": {
      "needs_background": "light"
     },
     "output_type": "display_data"
    },
    {
     "data": {
      "image/png": "[encoded data removed]",
      "text/plain": [
       "<Figure size 432x288 with 2 Axes>"
      ]
     },
     "metadata": {
      "needs_background": "light"
     },
     "output_type": "display_data"
    },
    {
     "data": {
      "image/png": "[encoded data removed]",
      "text/plain": [
       "<Figure size 432x288 with 2 Axes>"
      ]
     },
     "metadata": {
      "needs_background": "light"
     },
     "output_type": "display_data"
    },
    {
     "data": {
      "image/png": "[encoded data removed]",
      "text/plain": [
       "<Figure size 432x288 with 2 Axes>"
      ]
     },
     "metadata": {
      "needs_background": "light"
     },
     "output_type": "display_data"
    }
   ],
   "source": [
    "unique = int(whole_images.shape[0] / 5)\n",
    "\n",
    "print(unique)\n",
    "\n",
    "index = 0\n",
    "\n",
    "plt.figure()\n",
    "plt.imshow(whole_images[0 * unique + index, 0, :, :], interpolation='nearest', )\n",
    "plt.axis('off')\n",
    "plt.title('original')\n",
    "plt.colorbar()\n",
    "\n",
    "plt.figure()\n",
    "plt.imshow(whole_images[1 * unique + index, 0, :, :], interpolation='nearest', )\n",
    "plt.axis('off')\n",
    "plt.title('fliplr')\n",
    "plt.colorbar()\n",
    "\n",
    "plt.figure()\n",
    "plt.imshow(whole_images[2 * unique + index, 0, :, :], interpolation='nearest', )\n",
    "plt.axis('off')\n",
    "plt.title('flipud')\n",
    "plt.colorbar()\n",
    "\n",
    "plt.figure()\n",
    "plt.imshow(whole_images[3 * unique + index, 0, :, :], interpolation='nearest', )\n",
    "plt.axis('off')\n",
    "plt.title('rotate10')\n",
    "plt.colorbar()\n",
    "\n",
    "plt.figure()\n",
    "plt.imshow(whole_images[4 * unique + index, 0, :, :], interpolation='nearest', )\n",
    "plt.axis('off')\n",
    "plt.title('rotate10 (mirror)')\n",
    "plt.colorbar()"
   ]
  },
  {
   "cell_type": "code",
   "execution_count": null,
   "metadata": {},
   "outputs": [],
   "source": []
  }
 ],
 "metadata": {
  "kernelspec": {
   "display_name": "Python [default]",
   "language": "python",
   "name": "python3"
  },
  "language_info": {
   "codemirror_mode": {
    "name": "ipython",
    "version": 3
   },
   "file_extension": ".py",
   "mimetype": "text/x-python",
   "name": "python",
   "nbconvert_exporter": "python",
   "pygments_lexer": "ipython3",
   "version": "3.6.5"
  }
 },
 "nbformat": 4,
 "nbformat_minor": 2
}
